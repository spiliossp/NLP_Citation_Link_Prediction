{
 "cells": [
  {
   "cell_type": "code",
   "execution_count": 3,
   "id": "4fdb52c7-01d1-40e8-b324-7f8ac374c1b4",
   "metadata": {},
   "outputs": [
    {
     "name": "stdout",
     "output_type": "stream",
     "text": [
      "   paper_id                                           abstract  \\\n",
      "0         0  The development of an automated system for the...   \n",
      "1         1  This paper proposes a novel hybrid forward alg...   \n",
      "2         2  Modern CCD cameras are usually capable of a sp...   \n",
      "3         3  This paper deals with the problem of fuzzy non...   \n",
      "4         4  A number of neural networks can be formulated ...   \n",
      "\n",
      "                                             cleaned  \n",
      "0  development automated system quality assessmen...  \n",
      "1  paper proposes novel hybrid forward algorithm ...  \n",
      "2  modern ccd cameras usually capable spatial acc...  \n",
      "3  paper deals problem fuzzy nonlinear model iden...  \n",
      "4  number neural networks formulated linearinthep...  \n"
     ]
    }
   ],
   "source": [
    "import pandas as pd\n",
    "\n",
    "abstracts = pd.read_parquet(r'D:/NLP/tfidf_xgboost/cleaned_abstracts.parquet')\n",
    "\n",
    "print(abstracts.head())\n"
   ]
  },
  {
   "cell_type": "code",
   "execution_count": 4,
   "id": "15d4cda9-07ec-4fac-9149-1f35a4c90ca3",
   "metadata": {},
   "outputs": [],
   "source": [
    "from gensim.models import Word2Vec\n",
    "\n",
    "# 1. Φτιάχνουμε τη λίστα των “sentences” για το Word2Vec\n",
    "sentences = abstracts['cleaned'].str.split().tolist()\n"
   ]
  },
  {
   "cell_type": "code",
   "execution_count": 5,
   "id": "4a7bf174-018e-447c-a001-96a2a609e7ec",
   "metadata": {},
   "outputs": [],
   "source": [
    "w2v_model = Word2Vec(\n",
    "    sentences,\n",
    "    vector_size=100,    # διάσταση embedding\n",
    "    window=5,           # μέγεθος παράθυρου\n",
    "    min_count=5,        # αγνοούμε λέξεις που εμφανίζονται < 5 φορές\n",
    "    workers=4,          # αριθμός threads\n",
    "    epochs=10           # γύροι εκπαίδευσης\n",
    ")\n"
   ]
  },
  {
   "cell_type": "code",
   "execution_count": 6,
   "id": "ed931f4f-2f4e-468f-b397-c86e1daefbd2",
   "metadata": {},
   "outputs": [],
   "source": [
    "import numpy as np\n",
    "\n",
    "def doc_embedding(tokens, model):\n",
    "    vecs = [model.wv[w] for w in tokens if w in model.wv]\n",
    "    if not vecs:\n",
    "        return np.zeros(model.vector_size)\n",
    "    return np.mean(vecs, axis=0)\n",
    "\n",
    "# Εφαρμογή σε όλο το DataFrame\n",
    "abstracts['w2v_mean'] = abstracts['cleaned'].str.split().apply(lambda toks: doc_embedding(toks, w2v_model))\n"
   ]
  },
  {
   "cell_type": "code",
   "execution_count": 7,
   "id": "f191d353-ac96-43cd-932d-efbd889c1f23",
   "metadata": {},
   "outputs": [],
   "source": [
    "def doc_stats(tokens, model):\n",
    "    vecs = np.array([model.wv[w] for w in tokens if w in model.wv])\n",
    "    if vecs.size == 0:\n",
    "        return np.zeros(model.vector_size), np.zeros(model.vector_size)\n",
    "    return vecs.mean(axis=0), vecs.std(axis=0)\n",
    "\n",
    "stats = abstracts['cleaned'].str.split().apply(lambda toks: doc_stats(toks, w2v_model))\n",
    "abstracts['w2v_std'] = stats.apply(lambda x: x[1])\n"
   ]
  },
  {
   "cell_type": "code",
   "execution_count": 9,
   "id": "0cbe58b9-8984-49e8-b035-7d0110a3585a",
   "metadata": {},
   "outputs": [],
   "source": [
    "import numpy as np\n",
    "\n",
    "# 1. Στοίχιση των mean‐embeddings\n",
    "X_mean = np.vstack( abstracts['w2v_mean'].values ).astype(np.float32)\n",
    "\n",
    "# 2. Στοίχιση των std‐embeddings\n",
    "#   Υποθέτουμε ότι abstracts['w2v_std'] περιέχει numpy arrays της ίδιας διάστασης\n",
    "X_std  = np.vstack( abstracts['w2v_std'].values ).astype(np.float32)\n",
    "\n",
    "# 3. Τα IDs\n",
    "doc_ids = abstracts['paper_id'].values\n",
    "\n",
    "# 4. Αποθήκευση σε ένα NPZ\n",
    "np.savez(\n",
    "    r'D:\\NLP\\Features_XL\\embeddings_abstracts\\abstract_w2v_embeds.npz',\n",
    "    ids=doc_ids,\n",
    "    mean_embeds=X_mean,\n",
    "    std_embeds=X_std\n",
    ")"
   ]
  },
  {
   "cell_type": "code",
   "execution_count": null,
   "id": "01f29fdb-8696-4d7a-b8eb-c3537d448d0a",
   "metadata": {},
   "outputs": [],
   "source": []
  }
 ],
 "metadata": {
  "kernelspec": {
   "display_name": "Python 3 (ipykernel)",
   "language": "python",
   "name": "python3"
  },
  "language_info": {
   "codemirror_mode": {
    "name": "ipython",
    "version": 3
   },
   "file_extension": ".py",
   "mimetype": "text/x-python",
   "name": "python",
   "nbconvert_exporter": "python",
   "pygments_lexer": "ipython3",
   "version": "3.10.16"
  }
 },
 "nbformat": 4,
 "nbformat_minor": 5
}
